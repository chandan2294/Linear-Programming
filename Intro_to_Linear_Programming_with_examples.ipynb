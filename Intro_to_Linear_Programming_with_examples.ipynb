{
  "nbformat": 4,
  "nbformat_minor": 0,
  "metadata": {
    "colab": {
      "name": "Intro to Linear Programming with examples",
      "provenance": [],
      "collapsed_sections": [],
      "authorship_tag": "ABX9TyPgIeAlqr5sdY8IQ8WgwA5H",
      "include_colab_link": true
    },
    "kernelspec": {
      "name": "python3",
      "display_name": "Python 3"
    }
  },
  "cells": [
    {
      "cell_type": "markdown",
      "metadata": {
        "id": "view-in-github",
        "colab_type": "text"
      },
      "source": [
        "<a href=\"https://colab.research.google.com/github/chandan2294/Linear-Programming-/blob/main/Intro_to_Linear_Programming_with_examples.ipynb\" target=\"_parent\"><img src=\"https://colab.research.google.com/assets/colab-badge.svg\" alt=\"Open In Colab\"/></a>"
      ]
    },
    {
      "cell_type": "markdown",
      "metadata": {
        "id": "9dDx7zCbT7Us"
      },
      "source": [
        "In this set of notebook, we will be looking at some linear programming problems and how we can construct and solve these problems using the Python Linear Programming package PuLP.\n",
        "\n",
        "\n",
        "\n",
        "1.   **What is Linear Programming?**\n",
        "2.   **Introduction to PuLP**\n",
        "3.   **Real World Problems using Linear Programming**\n",
        "4.   **Resourcing Problem**\n",
        "5.   **Blending Problem**\n",
        "\n"
      ]
    },
    {
      "cell_type": "markdown",
      "metadata": {
        "id": "X-tOGao6UjGM"
      },
      "source": [
        "**What is Linear Programming?**\n",
        "\n",
        "Imagine that you have a system of linear equations and inequalities. Such systems often have many possible solutions. Linear programming is a set of mathematical and computational tools that allows you to find a particular solution to this system that corresponds to the maximum or minimum of some other linear function."
      ]
    },
    {
      "cell_type": "markdown",
      "metadata": {
        "id": "Wyh1zh8xUOmH"
      },
      "source": [
        "Let's start with a simple example:\n",
        "\n",
        "We want to find the maximum solution to:\n",
        "$$ Z = 4x + 3y $$\n",
        "\n",
        "This is known as our objective function. *x* and *y* in the above equation are our decision variables.\n",
        "\n",
        "Our constraints are following:\n",
        "\n",
        "$$ x \\geq 0 $$\n",
        "$$ y \\geq 2 $$\n",
        "$$ 2y \\leq 25 - x $$\n",
        "$$ 4y \\geq 2x - 8 $$\n",
        "$$ y \\leq 2x - 5 $$\n",
        "\n",
        "We will begin by graphing this problem.\n"
      ]
    },
    {
      "cell_type": "code",
      "metadata": {
        "colab": {
          "base_uri": "https://localhost:8080/",
          "height": 296
        },
        "id": "0OwTnGgNTzAh",
        "outputId": "e842dc3e-5336-496d-c438-0f2dc3656d89"
      },
      "source": [
        "import numpy as np\n",
        "import matplotlib.pyplot as plt\n",
        "%matplotlib inline\n",
        "\n",
        "#Construct lines\n",
        "x = np.linspace(0, 20, 2000) #x > 0\n",
        "\n",
        "y1 = (x*0) + 2      #y >= 2\n",
        "y2 = (25 - x)/2.0   #2y <= 25 - x\n",
        "y3 = (2*x - 8)/4    #4y >= 2x - 8\n",
        "y4 = (2*x - 5)      #y <= 2x - 5\n",
        "\n",
        "#Make plot\n",
        "plt.plot(x, y1, label = r'$y\\geq2$')\n",
        "plt.plot(x, y2, label = r'$2y\\leq25-x$')\n",
        "plt.plot(x, y3, label = r'$4y\\geq 2x - 8$')\n",
        "plt.plot(x, y4, label = r'$y\\leq 2x-5$')\n",
        "plt.xlim((0, 16))\n",
        "plt.ylim((0, 11))\n",
        "plt.xlabel(r'$x$')\n",
        "plt.ylabel(r'$y$')\n",
        "\n",
        "#Fill feasible region\n",
        "y5 = np.minimum(y2, y4)\n",
        "y6 = np.maximum(y1, y3)\n",
        "plt.fill_between(x, y5, y6, where = y5>y6, color = 'grey', alpha = 0.5)\n",
        "plt.legend(bbox_to_anchor=(1.05, 1), loc = 2, borderaxespad=0.)"
      ],
      "execution_count": 1,
      "outputs": [
        {
          "output_type": "execute_result",
          "data": {
            "text/plain": [
              "<matplotlib.legend.Legend at 0x7f0542587da0>"
            ]
          },
          "metadata": {
            "tags": []
          },
          "execution_count": 1
        },
        {
          "output_type": "display_data",
          "data": {
            "image/png": "[encoded data removed]",
            "text/plain": [
              "<Figure size 432x288 with 1 Axes>"
            ]
          },
          "metadata": {
            "tags": [],
            "needs_background": "light"
          }
        }
      ]
    },
    {
      "cell_type": "markdown",
      "metadata": {
        "id": "w4v3w3cE2L2i"
      },
      "source": [
        "Our solution lies somewhere in the grey feasible region in the graph above."
      ]
    },
    {
      "cell_type": "markdown",
      "metadata": {
        "id": "PsVEJ8YC2R8S"
      },
      "source": [
        "It has been proven that the minima and maxima of linear programming problems lie at the vertices of the feasible region. In this example, there are only 4 corners to our feasible region, so we can find the solutions for each corner to find our maximum. \n",
        "\n",
        "The four corners are between the lines:\n",
        "\n",
        "| Line 1 | Line 2 |\n",
        "| :-: | :-: |\n",
        "| y $\\geq$ 2 | 4y $\\geq$ 2x - 8 |\n",
        "| 2y $\\leq$ 25 - x | y $\\leq$ 2x - 5 |\n",
        "| 2y $\\leq$ 25 - x | 4y $\\geq$ 2x - 8 |\n",
        "| y $\\geq$ 2 | y $\\leq$ 2x - 5 |\n",
        "\n",
        "So keeping in mind that:\n",
        "$$ Z = 4x + 3y $$\n",
        "\n",
        "We can calculate $Z$ for each corner:\n",
        "\n",
        "1)\n",
        "\n",
        "y $\\geq$ 2 and 4y $\\geq$ 2x - 8\n",
        "\n",
        "2 = (2x - 8)/4\n",
        "\n",
        "x = 8\n",
        "\n",
        "y = 2\n",
        "\n",
        "Z = 38\n",
        "\n",
        "2)\n",
        "\n",
        "2y $\\leq$ 25 - x and y $\\leq$ 2x - 5\n",
        "\n",
        "(25 - x)/2 = (2x - 5)\n",
        "\n",
        "x = 7\n",
        "\n",
        "y = 9\n",
        "\n",
        "Z = 55\n",
        "\n",
        "3) \n",
        "\n",
        "2y $\\leq$ 25 - x and 4y $\\geq$ 2x - 8\n",
        "\n",
        "(25 - x)/2 = (2x - 8)/4\n",
        "\n",
        "x = 14.5\n",
        "\n",
        "y = 5.25\n",
        "\n",
        "Z = 73.75\n",
        "\n",
        "4)\n",
        "\n",
        "y $\\geq$ 2 and y $\\leq$ 2x - 5\n",
        "\n",
        "2 = 2x - 5\n",
        "\n",
        "x = 3.5\n",
        "\n",
        "y = 2\n",
        "\n",
        "Z = 20\n",
        "  \n"
      ]
    },
    {
      "cell_type": "markdown",
      "metadata": {
        "id": "NhcxpXv45Yrg"
      },
      "source": [
        "We have successfully calculated that the maximum vaue for Z is 73.75, when x = 14.5 and y = 5.25.\n",
        "\n",
        "This method of testing every vertex is only feasible for a small number of variables and constraints. As the numbers of constraints and variables increase, it becomes far more difficult to graph these problems and work out all the vertices. For instance, if we had a third variable:\n",
        "\n",
        "Z = Ax + By + Cz\n",
        "\n",
        "We would have to graph in three dimensions (x, y, and z).\n",
        "\n",
        "Further, let's see how we can use Python and the PuLP package to solve linear programming problem, as well as more complex problems. \n"
      ]
    },
    {
      "cell_type": "markdown",
      "metadata": {
        "id": "oqEK2Faz8yKB"
      },
      "source": [
        "**Introduction to PuLP**\n",
        "\n",
        "[PuLP](http://pythonhosted.org/PuLP/) is an open source linear programming package for Python. PuLP can be installed using pip, instructions [here](hhttp://pythonhosted.org/PuLP/main/installing_pulp_at_home.html).\n",
        "\n",
        "We will begin by importing PuLP"
      ]
    },
    {
      "cell_type": "code",
      "metadata": {
        "id": "jBSnBKo4xy62"
      },
      "source": [
        "pip install pulp"
      ],
      "execution_count": null,
      "outputs": []
    },
    {
      "cell_type": "code",
      "metadata": {
        "id": "lvWjvc9UyTeJ"
      },
      "source": [
        "import pulp"
      ],
      "execution_count": 3,
      "outputs": []
    },
    {
      "cell_type": "markdown",
      "metadata": {
        "id": "7r9HWKmCyZJU"
      },
      "source": [
        "Now instantiate a problem class. We will name it \"My LP problem\" and we are looking for an optimal maximum so we use LpMaximize"
      ]
    },
    {
      "cell_type": "code",
      "metadata": {
        "id": "IFMULxZwynZk"
      },
      "source": [
        "my_lp_problem = pulp.LpProblem(\"My_LP_Problem\", pulp.LpMaximize)"
      ],
      "execution_count": 4,
      "outputs": []
    },
    {
      "cell_type": "markdown",
      "metadata": {
        "id": "VM8wHP0gywF_"
      },
      "source": [
        "Let's model our decision variables using the LpVariable class. In our example, x had a lower bound of 0 and y had a lower bound of 2.\n",
        "\n",
        "Upper bounds can be assigned using the upBound parameter."
      ]
    },
    {
      "cell_type": "code",
      "metadata": {
        "id": "J-ehUwdGzBcB"
      },
      "source": [
        "x = pulp.LpVariable('x', lowBound = 0, cat = 'Continuous')\n",
        "y = pulp.LpVariable('y', lowBound = 2, cat = 'Continuous')"
      ],
      "execution_count": 5,
      "outputs": []
    },
    {
      "cell_type": "markdown",
      "metadata": {
        "id": "J7ekbRTvzSmm"
      },
      "source": [
        "The objective function and constraints are added using the += operator to our model. \n",
        "\n",
        "The objective function is added first, then the individual constraints.\n"
      ]
    },
    {
      "cell_type": "code",
      "metadata": {
        "id": "k5E8zqa0zhq2"
      },
      "source": [
        "#Objective Function\n",
        "my_lp_problem += 4*x + 3*y, \"Z\"\n",
        "\n",
        "#Constraints\n",
        "my_lp_problem += 2*y <= 25 - x\n",
        "my_lp_problem += 4*y >= 2*x - 8\n",
        "my_lp_problem += y <= 2*x - 5"
      ],
      "execution_count": 6,
      "outputs": []
    },
    {
      "cell_type": "markdown",
      "metadata": {
        "id": "JKs0iWSn0Bup"
      },
      "source": [
        "We have now constructed our problem and can have a look at it.\n"
      ]
    },
    {
      "cell_type": "code",
      "metadata": {
        "colab": {
          "base_uri": "https://localhost:8080/"
        },
        "id": "cAjeQ7fw0IM8",
        "outputId": "58c2161f-9eee-4344-8103-52d5b050bcef"
      },
      "source": [
        "my_lp_problem"
      ],
      "execution_count": 7,
      "outputs": [
        {
          "output_type": "execute_result",
          "data": {
            "text/plain": [
              "My_LP_Problem:\n",
              "MAXIMIZE\n",
              "4*x + 3*y + 0\n",
              "SUBJECT TO\n",
              "_C1: x + 2 y <= 25\n",
              "\n",
              "_C2: - 2 x + 4 y >= -8\n",
              "\n",
              "_C3: - 2 x + y <= -5\n",
              "\n",
              "VARIABLES\n",
              "x Continuous\n",
              "2 <= y Continuous"
            ]
          },
          "metadata": {
            "tags": []
          },
          "execution_count": 7
        }
      ]
    },
    {
      "cell_type": "markdown",
      "metadata": {
        "id": "HS65n1Ww0L7H"
      },
      "source": [
        "PuLP supports open source linear programming solvers such as CBC and GLPK, as well as commercial solvers such as Gurobi and IBM's CPLEX.\n",
        "\n",
        "The default solver is CBC, which comes packaged with PuLP upon installation.\n",
        "\n",
        "For most applications, the open source CBC from [COIN-OR](http://www.coin-or.org/) will be enough for most simple linear programming optimization algorithms."
      ]
    },
    {
      "cell_type": "code",
      "metadata": {
        "colab": {
          "base_uri": "https://localhost:8080/",
          "height": 35
        },
        "id": "v2an0eUn1Pw9",
        "outputId": "31d1a508-0619-4e1c-f7ca-d678ee5933ef"
      },
      "source": [
        "my_lp_problem.solve()\n",
        "pulp.LpStatus[my_lp_problem.status]"
      ],
      "execution_count": 8,
      "outputs": [
        {
          "output_type": "execute_result",
          "data": {
            "application/vnd.google.colaboratory.intrinsic+json": {
              "type": "string"
            },
            "text/plain": [
              "'Optimal'"
            ]
          },
          "metadata": {
            "tags": []
          },
          "execution_count": 8
        }
      ]
    },
    {
      "cell_type": "markdown",
      "metadata": {
        "id": "OmCx2dfE1ZC0"
      },
      "source": [
        "We have also checked the status of the solver, there are 5 status codes:\n",
        "\n",
        "\n",
        "\n",
        "*   **Not Solved:** Status prior to solving the problem.\n",
        "*   **Optimal:** An optimal solution has been found.\n",
        "*   **Infeasible:** There are no feasible solutions (e.g. if you set the constraints x $\\geq$ 1 and x $\\geq$ 2).\n",
        "*   **Unbounded:** The constraints are not bounded, maximizing the solution will tend towards infinity (e.g. if the only constraint was x $\\geq$ 3).\n",
        "*   **Undefined:** The optimal solution may exist but may not have been found.\n",
        "\n",
        "We can now view our maximal variable values and the maximum values of Z.\n",
        "\n",
        "We can use the VarValue method to retrieve the values of our variables x and y, and the pulp.value function to view the maximum value of the objective function.\n",
        "\n",
        "\n",
        "\n",
        "\n"
      ]
    },
    {
      "cell_type": "code",
      "metadata": {
        "colab": {
          "base_uri": "https://localhost:8080/"
        },
        "id": "bgMTYFY6VwNa",
        "outputId": "a7f23f8b-ca92-407e-b557-428df3c905ca"
      },
      "source": [
        "for variable in my_lp_problem.variables():\n",
        "  print(\"{} = {}\".format(variable.name, variable.varValue))"
      ],
      "execution_count": 9,
      "outputs": [
        {
          "output_type": "stream",
          "text": [
            "x = 14.5\n",
            "y = 5.25\n"
          ],
          "name": "stdout"
        }
      ]
    },
    {
      "cell_type": "code",
      "metadata": {
        "colab": {
          "base_uri": "https://localhost:8080/"
        },
        "id": "Hrw7N5-oWcUY",
        "outputId": "f45d6ecc-f062-4a19-fcf6-3eff43b546cf"
      },
      "source": [
        "print(pulp.value(my_lp_problem.objective))"
      ],
      "execution_count": 10,
      "outputs": [
        {
          "output_type": "stream",
          "text": [
            "73.75\n"
          ],
          "name": "stdout"
        }
      ]
    },
    {
      "cell_type": "markdown",
      "metadata": {
        "id": "SAzbP9-xWjIj"
      },
      "source": [
        "Same result as we obtained above while solving manually. \n",
        "\n"
      ]
    },
    {
      "cell_type": "markdown",
      "metadata": {
        "id": "4FMfRpuVWz0g"
      },
      "source": [
        "**Real World example using Linear Programming**\n",
        "\n",
        "We will look at 2 real world examples:\n",
        "\n",
        "*   Resourcing Problem\n",
        "*   Blending Problem\n",
        "\n",
        "**Resourcing Problem**\n",
        "\n",
        "We are consulting for a boutique car manufacturer, producing luxury cars.\n",
        "\n",
        "They run on one month (30 days) cycles, we have one cycle to show we can provide value. \n",
        "\n",
        "There is one robot, 2 engineers and one detailer in the factory. The detailer has some holiday off, so only has 21 days available. \n",
        "\n",
        "The 2 cars need different time with each resource:\n",
        "\n",
        "\n",
        "\n",
        "*   **Robot time:** Car A - 3 days; Car B - 4 days.\n",
        "*   **Engineer Time:** Car A - 5 days; Car B - 6 days.\n",
        "*   **Detailer Time:** Car A - 1.5 days; Car B - 3 days.\n",
        "\n",
        "Car A provides \\$30,0000 profit, while Car B offers \\$45,000 profit. \n",
        "\n",
        "At the moment, they produce 4 of each cars per month, for \\$300,000 profit. Not bad at all, but we think we can do better for them.\n",
        "\n",
        "This can be modelled as follows:\n",
        "\n",
        "Maximize: \n",
        "$$\n",
        "Profit = 30,000A + 45,000B\n",
        "$$\n",
        "\n",
        "Subject to:\n",
        "$$\n",
        "A \\geq 0\n",
        "$$\n",
        "$$\n",
        "B \\geq 0\n",
        "$$\n",
        "$$\n",
        "3A + 4B \\leq 30\n",
        "$$\n",
        "$$\n",
        "5A + 6B \\leq 60\n",
        "$$\n",
        "$$\n",
        "1.5A + 3B \\leq 21\n",
        "$$"
      ]
    },
    {
      "cell_type": "code",
      "metadata": {
        "id": "4K6Dss3TWiJo"
      },
      "source": [
        "import pulp\n",
        "\n",
        "#Instantiate our problem class\n",
        "model = pulp.LpProblem(\"Profit_maximizing_problem\", pulp.LpMaximize)"
      ],
      "execution_count": 11,
      "outputs": []
    },
    {
      "cell_type": "markdown",
      "metadata": {
        "id": "8swWZ9BOdeia"
      },
      "source": [
        "Unlike our previous problem, the decision variables in this case won't be continuous (We can't sell half a car!), so the category is integer. "
      ]
    },
    {
      "cell_type": "code",
      "metadata": {
        "id": "TC6ub_XAdqBd"
      },
      "source": [
        "A = pulp.LpVariable(\"A\", lowBound=0, cat='Integer')\n",
        "B = pulp.LpVariable(\"B\", lowBound=0, cat='Integer')"
      ],
      "execution_count": 12,
      "outputs": []
    },
    {
      "cell_type": "code",
      "metadata": {
        "id": "6qa8sh6wd4HN"
      },
      "source": [
        "#Objective function\n",
        "model += 30000*A + 45000*B, \"Profit\"\n",
        "\n",
        "#Constraints\n",
        "model += 3*A + 4*B <= 30\n",
        "model += 5*A + 6*B <= 60\n",
        "model += 1.5*A + 3*B <= 21"
      ],
      "execution_count": 13,
      "outputs": []
    },
    {
      "cell_type": "code",
      "metadata": {
        "colab": {
          "base_uri": "https://localhost:8080/",
          "height": 35
        },
        "id": "fV01r09zeODe",
        "outputId": "1115a825-a45b-4226-ff7c-a1022fd70285"
      },
      "source": [
        "#Solve our problem\n",
        "model.solve()\n",
        "pulp.LpStatus[model.status]"
      ],
      "execution_count": 14,
      "outputs": [
        {
          "output_type": "execute_result",
          "data": {
            "application/vnd.google.colaboratory.intrinsic+json": {
              "type": "string"
            },
            "text/plain": [
              "'Optimal'"
            ]
          },
          "metadata": {
            "tags": []
          },
          "execution_count": 14
        }
      ]
    },
    {
      "cell_type": "code",
      "metadata": {
        "colab": {
          "base_uri": "https://localhost:8080/"
        },
        "id": "4V1p_HtzfBUt",
        "outputId": "7172def3-4845-4484-eb7b-7c28d9792b5c"
      },
      "source": [
        "#Print our decision variable values\n",
        "print(\"Production of Car A = {}\".format(A.varValue))\n",
        "print(\"Production of Car B = {}\".format(B.varValue))"
      ],
      "execution_count": 15,
      "outputs": [
        {
          "output_type": "stream",
          "text": [
            "Production of Car A = 2.0\n",
            "Production of Car B = 6.0\n"
          ],
          "name": "stdout"
        }
      ]
    },
    {
      "cell_type": "code",
      "metadata": {
        "colab": {
          "base_uri": "https://localhost:8080/"
        },
        "id": "oBWX4THAfP4G",
        "outputId": "c1953cd3-ae09-41c1-feb0-837507233c8f"
      },
      "source": [
        "#Print our objective function value\n",
        "print(pulp.value(model.objective))"
      ],
      "execution_count": 16,
      "outputs": [
        {
          "output_type": "stream",
          "text": [
            "330000.0\n"
          ],
          "name": "stdout"
        }
      ]
    },
    {
      "cell_type": "markdown",
      "metadata": {
        "id": "-i4yoeKgfXPH"
      },
      "source": [
        "So that's \\$330,000 monthly profit, compared to their original monthly profit of \\$3000,000\n",
        "\n",
        "By producing 2 cars of Car A and 4 cars of Car B, we bolster the profits at the factory by \\$30,000 per month. \n",
        "\n",
        "We take our consultancy fee and leave the company with \\$360,000 extra profit for the factory every year."
      ]
    },
    {
      "cell_type": "markdown",
      "metadata": {
        "id": "4JIVLk8lh0Gr"
      },
      "source": [
        "**Blending Problem**\n",
        "\n",
        "We're going to make sausages!\n",
        "\n",
        "We have the following ingredients available to us:\n",
        "\n",
        "|Ingredient | Cost(\\$/pounds) | Availability (pounds) |\n",
        "| :-: | :-: | :-: |\n",
        "| Pork | 4.32 | 30 |\n",
        "| Wheat | 2.46 | 20 |\n",
        "| Starch | 1.86 | 17 |\n",
        "\n",
        "We will make 2 types of sausage:\n",
        "\n",
        "*   Economy (> 40% Pork)\n",
        "*   Premium (> 60% Pork)\n",
        "\n",
        "One sausage is 50 ounces.\n",
        "\n",
        "According to government regulations, the most starch we can use in our sausages is 25%.\n",
        "\n",
        "We have a contract with a butcher, and have already purchased 23 pounds of pork, that will go bad if it's not used. \n",
        "\n",
        "We have a demand for 350 economy sausages and 500 premium sausages. We need to figure out how to most cost effectively blend our sausages. \n",
        "\n",
        "Let's model our problem\n",
        "\n",
        "$p_e$ = Pork in the economy sausages (pounds)\n",
        "\n",
        "$w_e$ = Wheat in the economy sausages (pounds)\n",
        "\n",
        "$s_e$ = Starch in the economy sausages (pounds)\n",
        "\n",
        "$p_p$ = Pork in the premium sausages (pounds)\n",
        "\n",
        "$w_p$ = Wheat in the premium sausages (pounds)\n",
        "\n",
        "$s_p$ = Starch in the premium sausages (pounds)\n",
        "\n",
        "We want to minimize costs such that:\n",
        "\n",
        "Cost = 0.72($p_e$ + $p_p$) + 0.41($w_e$ + $w_p$) + 0.31($s_e$ + $s_p$)\n",
        "\n",
        "With the following constraints:\n",
        "\n",
        "$p_e$ + $w_e$ + $s_e$ = 350 $\\times$ 0.05\n",
        "\n",
        "$p_p$ + $w_p$ + $s_p$ = 500 $\\times$ 0.05\n",
        "\n",
        "$p_e$ $\\geq$ 0.4($p_e$ + $w_e$ + $s_e$)\n",
        "\n",
        "$p_p$ $\\geq$ 0.6($p_p$ + $w_p$ + $s_p$) \n",
        "\n",
        "$s_e$ $\\leq$ 0.25($p_e$ + $w_e$ + $s_e$)\n",
        "\n",
        "$s_p$ $\\leq$ 0.25($p_p$ + $w_p$ + $s_p$)\n",
        "\n",
        "$p_e$ + $p_p$ $\\leq$ 30\n",
        "\n",
        "$w_e$ + $w_p$ $\\leq$ 20\n",
        "\n",
        "$s_e$ + $s_p$ $\\leq$ 17\n",
        "\n",
        "$p_e$ + $p_p$ $\\geq$ 23"
      ]
    },
    {
      "cell_type": "code",
      "metadata": {
        "id": "7MlPMY88hzKl"
      },
      "source": [
        "import pulp"
      ],
      "execution_count": 17,
      "outputs": []
    },
    {
      "cell_type": "code",
      "metadata": {
        "id": "GcqzwkV5uvSZ"
      },
      "source": [
        "#Instantiate our problem class\n",
        "model = pulp.LpProblem(\"Cost_minimizing_blending_problem\", pulp.LpMinimize)"
      ],
      "execution_count": 18,
      "outputs": []
    },
    {
      "cell_type": "markdown",
      "metadata": {
        "id": "grBjUWFNu6Mc"
      },
      "source": [
        "Here we have 6 decision variables, we could name them individually but this wouldn't scale up if we had hundreds/thousands of variables (you don't want to be entering all of these by hand multiple times).\n",
        "\n",
        "We'll create a couple of lists from which we can create tuple indices."
      ]
    },
    {
      "cell_type": "code",
      "metadata": {
        "id": "pjnblPsHvYWU"
      },
      "source": [
        "#Construct our decision variable lists\n",
        "sausage_types = ['economy', 'premium']\n",
        "ingredients = ['pork', 'wheat', 'starch']"
      ],
      "execution_count": 19,
      "outputs": []
    },
    {
      "cell_type": "markdown",
      "metadata": {
        "id": "O9b4qKZhvm8s"
      },
      "source": [
        "Each of these decision variables will have similar characteristics (lower bound of 0, continuous variables). Therefore we can use PuLP's LpVariable object's dict functionality, we can provide our tuple indices.\n",
        "\n",
        "These tuples will be keys for the ing_weight dict of decision variables."
      ]
    },
    {
      "cell_type": "code",
      "metadata": {
        "id": "yZId6xV7wKE5"
      },
      "source": [
        "ing_weight = pulp.LpVariable.dicts(\"weight kg\", ((i, j) for i in sausage_types for j in ingredients), lowBound=0, cat='Continuous')\n"
      ],
      "execution_count": 20,
      "outputs": []
    },
    {
      "cell_type": "markdown",
      "metadata": {
        "id": "iGdAKjvfwe5U"
      },
      "source": [
        "PuLP provides an lpSum vector calculation for the sum of a list of linear expressions.\n",
        "\n",
        "Whilst we only have 6 decision variables, I will demonstrate how the problem would be constructed in a way that could be scaled up to many variables using list comprehensions."
      ]
    },
    {
      "cell_type": "code",
      "metadata": {
        "id": "TqscK3XWwyeV"
      },
      "source": [
        "#Objective Function\n",
        "model += (pulp.lpSum([4.32*ing_weight[(i, 'pork')] + 2.46* ing_weight[(i, 'wheat')] + 1.86*ing_weight[(i,'starch')] for i in sausage_types]))"
      ],
      "execution_count": 21,
      "outputs": []
    },
    {
      "cell_type": "markdown",
      "metadata": {
        "id": "xbZ-yqJtxSU7"
      },
      "source": [
        "Now we add our constraints, bear in mind again here how the use of list comprehensions allows for scaling up to many ingredients or sausage types. "
      ]
    },
    {
      "cell_type": "code",
      "metadata": {
        "id": "7OeTtwDKxd9e"
      },
      "source": [
        "#Constraints\n",
        "#350 economy and 500 premium sausages at 0.05 \n",
        "model += pulp.lpSum([ing_weight['economy', j] for j in ingredients]) == 350*0.05\n",
        "model += pulp.lpSum([ing_weight['premium', j] for j in ingredients]) == 500*0.05\n",
        "\n",
        "#Economy has >= 40% pork, premium >= 60% pork\n",
        "model += ing_weight['economy', 'pork'] >= (0.4*pulp.lpSum([ing_weight['economy', j] for j in ingredients]))\n",
        "\n",
        "model += ing_weight['premium', 'pork'] >= (0.6*pulp.lpSum([ing_weight['premium', j] for j in ingredients]))\n",
        "\n",
        "#Sausages must be <= 25% starch\n",
        "model += ing_weight['economy', 'starch'] <= (0.25*pulp.lpSum([ing_weight['economy', j] for j in ingredients]))\n",
        "\n",
        "model += ing_weight['premium', 'starch'] <= (0.25*pulp.lpSum([ing_weight['premium', j] for j in ingredients]))\n",
        "\n",
        "#We have at least 30 pounds of pork, 20 pounds of wheat and 17 pounds of starch available\n",
        "model += pulp.lpSum([ing_weight[i, 'pork'] for i in sausage_types]) <= 30\n",
        "model += pulp.lpSum([ing_weight[i, 'wheat'] for i in sausage_types]) <= 20\n",
        "model += pulp.lpSum([ing_weight[i, 'starch'] for i in sausage_types]) <= 17\n",
        "\n",
        "#We have at least 23 pounds of pork to use up\n",
        "model += pulp.lpSum([ing_weight[i, 'pork'] for i in sausage_types]) >= 23\n"
      ],
      "execution_count": 22,
      "outputs": []
    },
    {
      "cell_type": "code",
      "metadata": {
        "colab": {
          "base_uri": "https://localhost:8080/",
          "height": 35
        },
        "id": "ZNwPshgu2t5k",
        "outputId": "a04d44d2-ee55-4a51-bb88-45d04a918d9a"
      },
      "source": [
        "#Solve our problem\n",
        "model.solve()\n",
        "pulp.LpStatus[model.status]"
      ],
      "execution_count": 23,
      "outputs": [
        {
          "output_type": "execute_result",
          "data": {
            "application/vnd.google.colaboratory.intrinsic+json": {
              "type": "string"
            },
            "text/plain": [
              "'Optimal'"
            ]
          },
          "metadata": {
            "tags": []
          },
          "execution_count": 23
        }
      ]
    },
    {
      "cell_type": "code",
      "metadata": {
        "colab": {
          "base_uri": "https://localhost:8080/"
        },
        "id": "LGu3aJBC23AP",
        "outputId": "432aacdc-d485-46eb-8afe-b7ed0b549652"
      },
      "source": [
        "for var in ing_weight:\n",
        "  var_value = ing_weight[var].varValue\n",
        "  print(\"The weight of {0} in {1} sausages is {2} kg\".format(var[1], var[0], var_value))"
      ],
      "execution_count": 24,
      "outputs": [
        {
          "output_type": "stream",
          "text": [
            "The weight of pork in economy sausages is 7.0 kg\n",
            "The weight of wheat in economy sausages is 6.125 kg\n",
            "The weight of starch in economy sausages is 4.375 kg\n",
            "The weight of pork in premium sausages is 16.0 kg\n",
            "The weight of wheat in premium sausages is 2.75 kg\n",
            "The weight of starch in premium sausages is 6.25 kg\n"
          ],
          "name": "stdout"
        }
      ]
    },
    {
      "cell_type": "code",
      "metadata": {
        "colab": {
          "base_uri": "https://localhost:8080/"
        },
        "id": "VXPIluk84LHM",
        "outputId": "b11ef9d8-2b08-4271-d89d-f82076f4b9ca"
      },
      "source": [
        "total_cost = pulp.value(model.objective)\n",
        "print(\"The total cost is ${} for 350 economy sausage and 500 premium sausages\".format(round(total_cost, 2)))"
      ],
      "execution_count": 25,
      "outputs": [
        {
          "output_type": "stream",
          "text": [
            "The total cost is $140.96 for 350 economy sausage and 500 premium sausages\n"
          ],
          "name": "stdout"
        }
      ]
    }
  ]
}